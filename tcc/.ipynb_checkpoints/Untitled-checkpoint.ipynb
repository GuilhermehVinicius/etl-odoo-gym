{
 "cells": [
  {
   "cell_type": "code",
   "execution_count": 26,
   "id": "e9190928-5b53-48d2-a70c-74641ff97308",
   "metadata": {},
   "outputs": [
    {
     "name": "stdout",
     "output_type": "stream",
     "text": [
      "Consulta realizada com sucesso!\n"
     ]
    },
    {
     "name": "stderr",
     "output_type": "stream",
     "text": [
      "/tmp/ipykernel_8074/1584671551.py:95: UserWarning: pandas only supports SQLAlchemy connectable (engine/connection) or database string URI or sqlite3 DBAPI2 connection. Other DBAPI2 objects are not tested. Please consider using SQLAlchemy.\n",
      "  df = pd.read_sql_query(dStates, conn)\n"
     ]
    },
    {
     "data": {
      "text/plain": [
       "4"
      ]
     },
     "execution_count": 26,
     "metadata": {},
     "output_type": "execute_result"
    }
   ],
   "source": [
    "import pandas as pd\n",
    "import psycopg2\n",
    "from sqlalchemy import create_engine\n",
    "\n",
    "# Configurações do banco de dados\n",
    "db_config = {\n",
    "    \"host\": \"localhost\",\n",
    "    \"port\": \"5433\",  # Porta padrão do PostgreSQL\n",
    "    \"database\": \"odoo\",\n",
    "    \"user\": \"odoo\",\n",
    "    \"password\": \"odoo\"\n",
    "}\n",
    "\n",
    "# Consulta SQL\n",
    "dProducts = '''\n",
    "\n",
    "select \n",
    "\n",
    "id as \"idProducts\",\n",
    "UPPER(name ->>'pt_BR') as \"ProductDescription\"\n",
    "\n",
    "from product_template pt;\n",
    "\n",
    "'''\n",
    "\n",
    "dLoss = '''\n",
    "\n",
    "\n",
    "select \n",
    "\n",
    "id as \"idLoss\",\n",
    "UPPER(name ->>'pt_BR') as \"LossDescription\"\n",
    "\n",
    "from crm_lost_reason;\n",
    "\n",
    "\n",
    "'''\n",
    "\n",
    "\n",
    "dContacts = '''\n",
    "\n",
    "select \n",
    "\n",
    "id as \"idContacts\",\n",
    "UPPER(name) as \"Name\",\n",
    "UPPER(street) as \"Adress\", \n",
    "UPPER(city) as \"City\",\n",
    "UPPER(replace(split_part(tz,'/',2),'_',' ')) as \"State\"\n",
    "\n",
    "from res_partner rp;\n",
    "\n",
    "'''\n",
    "\n",
    "dStates = '''\n",
    "\n",
    "select \n",
    "\n",
    "id as idStates,\n",
    "UPPER(name ->>'pt_BR') as \"StatesDescription\" \n",
    "\n",
    "from crm_stage cs;\n",
    "\n",
    "'''\n",
    "\n",
    "fPipelineCRM = '''\n",
    "\n",
    "\n",
    "select \n",
    "\n",
    "cl.id as idCrm,\n",
    "cl.date_open::date as DateOpen,\n",
    "cl.partner_id as idContacts,\n",
    "cl.stage_id as idStage,\n",
    "cl.priority as idPriority,\n",
    "cl.date_closed::date as DateClosed,\n",
    "cl.lost_reason_id as idLoss,\n",
    "cl.description as Interest,\n",
    "so.currency_rate as qtd_peoople,\n",
    "so.amount_total as value\n",
    "\n",
    "\n",
    "from crm_lead cl \n",
    "\n",
    "left join sale_order so\n",
    "on so.opportunity_id = cl.id;\n",
    "\n",
    "\n",
    "'''\n",
    "\n",
    "\n",
    "try:\n",
    "    # Conexão com o banco\n",
    "    with psycopg2.connect(**db_config) as conn:\n",
    "        # Cria o DataFrame a partir da consulta\n",
    "        df = pd.read_sql_query(dStates, conn)\n",
    "    print(\"Consulta realizada com sucesso!\")\n",
    "except Exception as e:\n",
    "    print(\"Erro ao realizar a consulta:\", e)\n",
    "\n",
    "\n",
    "db_user = \"postgres\"\n",
    "db_password = \"admin\"\n",
    "db_host = \"localhost\"  # ou o IP do servidor\n",
    "db_port = \"5434\"  # porta padrão do PostgreSQL\n",
    "db_name = \"dw-gym\"\n",
    "\n",
    "engine = create_engine(f\"postgresql+psycopg2://{db_user}:{db_password}@{db_host}:{db_port}/{db_name}\")\n",
    "\n",
    "df.to_sql(\"dStates\", con=engine, if_exists=\"replace\", index=False)\n"
   ]
  },
  {
   "cell_type": "code",
   "execution_count": 11,
   "id": "c8515a35-3aad-42e3-b46c-8286a979086e",
   "metadata": {},
   "outputs": [
    {
     "data": {
      "text/html": [
       "<div>\n",
       "<style scoped>\n",
       "    .dataframe tbody tr th:only-of-type {\n",
       "        vertical-align: middle;\n",
       "    }\n",
       "\n",
       "    .dataframe tbody tr th {\n",
       "        vertical-align: top;\n",
       "    }\n",
       "\n",
       "    .dataframe thead th {\n",
       "        text-align: right;\n",
       "    }\n",
       "</style>\n",
       "<table border=\"1\" class=\"dataframe\">\n",
       "  <thead>\n",
       "    <tr style=\"text-align: right;\">\n",
       "      <th></th>\n",
       "      <th>idStates</th>\n",
       "      <th>StatesDescription</th>\n",
       "    </tr>\n",
       "  </thead>\n",
       "  <tbody>\n",
       "    <tr>\n",
       "      <th>0</th>\n",
       "      <td>1</td>\n",
       "      <td>Baixa</td>\n",
       "    </tr>\n",
       "    <tr>\n",
       "      <th>1</th>\n",
       "      <td>2</td>\n",
       "      <td>Média</td>\n",
       "    </tr>\n",
       "    <tr>\n",
       "      <th>2</th>\n",
       "      <td>3</td>\n",
       "      <td>Alta</td>\n",
       "    </tr>\n",
       "  </tbody>\n",
       "</table>\n",
       "</div>"
      ],
      "text/plain": [
       "   idStates StatesDescription\n",
       "0         1             Baixa\n",
       "1         2             Média\n",
       "2         3              Alta"
      ]
     },
     "execution_count": 11,
     "metadata": {},
     "output_type": "execute_result"
    }
   ],
   "source": [
    "d = {'idStates': [1, 2, 3], 'StatesDescription': [\"Baixa\", \"Média\", \"Alta\"]}\n",
    "\n",
    "dStates = pd.DataFrame(data=d)\n",
    "\n",
    "dStates"
   ]
  },
  {
   "cell_type": "code",
   "execution_count": 15,
   "id": "0f6fa54f-12af-4a56-8a94-08251b811650",
   "metadata": {},
   "outputs": [
    {
     "name": "stdout",
     "output_type": "stream",
     "text": [
      "        Data   Ano  Mês Nome do Mês Trimestre  Dia Dia da Semana\n",
      "0 2024-01-01  2024    1         Jan        T1    1        Monday\n",
      "1 2024-01-02  2024    1         Jan        T1    2       Tuesday\n",
      "2 2024-01-03  2024    1         Jan        T1    3     Wednesday\n",
      "3 2024-01-04  2024    1         Jan        T1    4      Thursday\n",
      "4 2024-01-05  2024    1         Jan        T1    5        Friday\n"
     ]
    }
   ],
   "source": [
    "import pandas as pd\n",
    "\n",
    "# Lista de datas\n",
    "datas = pd.date_range(start=\"2024-01-01\", end=\"2024-12-31\")\n",
    "\n",
    "# Criar DataFrame\n",
    "calendario = pd.DataFrame({\n",
    "    \"Data\": datas,\n",
    "    \"Ano\": datas.year,\n",
    "    \"Mês\": datas.month,\n",
    "    \"Nome do Mês\": datas.strftime(\"%b\").str.capitalize(),  # Nome do mês (três caracteres, com inicial maiúscula)\n",
    "    \"Trimestre\": datas.quarter.map(lambda x: f\"T{x}\"),\n",
    "    \"Dia\": datas.day,\n",
    "    \"Dia da Semana\": datas.strftime(\"%A\").str.capitalize()  # Nome do dia em português\n",
    "})\n",
    "\n",
    "# Exibir a tabela\n",
    "print(calendario.head())\n"
   ]
  },
  {
   "cell_type": "code",
   "execution_count": 19,
   "id": "d6dba00b-0db3-4411-8e64-790cc4cdede7",
   "metadata": {},
   "outputs": [
    {
     "name": "stdout",
     "output_type": "stream",
     "text": [
      "555\n"
     ]
    }
   ],
   "source": []
  },
  {
   "cell_type": "code",
   "execution_count": null,
   "id": "93d84b01-8dd0-4d88-bf89-7daa07fd81ec",
   "metadata": {},
   "outputs": [],
   "source": []
  }
 ],
 "metadata": {
  "kernelspec": {
   "display_name": "Python 3 (ipykernel)",
   "language": "python",
   "name": "python3"
  },
  "language_info": {
   "codemirror_mode": {
    "name": "ipython",
    "version": 3
   },
   "file_extension": ".py",
   "mimetype": "text/x-python",
   "name": "python",
   "nbconvert_exporter": "python",
   "pygments_lexer": "ipython3",
   "version": "3.12.3"
  }
 },
 "nbformat": 4,
 "nbformat_minor": 5
}
